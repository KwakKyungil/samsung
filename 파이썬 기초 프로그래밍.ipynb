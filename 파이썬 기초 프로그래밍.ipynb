{
 "cells": [
  {
   "cell_type": "markdown",
   "id": "210ef244",
   "metadata": {},
   "source": [
    "# 파이썬 기초 프로그래밍\n",
    "파이썬(Python)은 1991년에 귀도 반 로섬(Guido van Rossum)이 개발한 고급 프로그래밍 언어입니다. 파이썬은 특히 가독성과 명료성에 중점을 두고 설계되었으며, 들여쓰기를 사용하여 코드 블록을 구분합니다. 이러한 특성 덕분에 파이썬은 초보자들이 배우기에 적합한 언어로 평가받고 있습니다.\n",
    "\n",
    "파이썬은 범용 프로그래밍 언어로, 웹 개발, 데이터 분석, 인공 지능, 머신러닝 등 다양한 분야에서 사용됩니다. 이를 가능하게 하는 것은 파이썬의 방대한 표준 라이브러리와 서드파티 라이브러리 덕분입니다. 대표적인 서드파티 라이브러리로는 웹 개발을 위한 Django와 Flask, 데이터 분석을 위한 Pandas와 NumPy, 머신러닝을 위한 TensorFlow와 PyTorch 등이 있습니다.\n",
    "\n",
    "또한, 파이썬은 스크립트 언어로서의 성격도 강하고, 다양한 운영체제에서 실행될 수 있어 널리 사용되고 있습니다. 이로 인해 파이썬은 현재 세계에서 가장 인기 있는 프로그래밍 언어 중 하나로 꼽히고 있습니다."
   ]
  },
  {
   "cell_type": "markdown",
   "id": "52e8482a",
   "metadata": {},
   "source": [
    "## 1. 숫자형 자료형\n",
    "숫자형 자료형(Number data types)은 프로그래밍 언어에서 숫자를 다루기 위한 자료형입니다.  \n",
    ": 파이썬에서 숫자형 자료형을 사용하면 사칙연산, 나머지 연산, 지수 연산 등 다양한 수학적 연산을 수행할 수 있습니다."
   ]
  },
  {
   "cell_type": "markdown",
   "id": "5dfc4ec1",
   "metadata": {},
   "source": [
    "* 정수형(int)  \n",
    "정수(Integer)를 표현하는 자료형으로, 양의 정수, 음의 정수, 0을 포함합니다.   "
   ]
  },
  {
   "cell_type": "code",
   "execution_count": 1,
   "id": "d25e5b7b",
   "metadata": {},
   "outputs": [],
   "source": [
    "a = 10\n",
    "b = 3"
   ]
  },
  {
   "cell_type": "markdown",
   "id": "c9dcd737",
   "metadata": {},
   "source": [
    "* 실수형 (float) : 소수점이 있는 숫자를 나타내는 자료형인 부동 소수점(Floating point)을 표현합니다."
   ]
  },
  {
   "cell_type": "code",
   "execution_count": 2,
   "id": "504ef2ec",
   "metadata": {},
   "outputs": [],
   "source": [
    "c = 3.14\n",
    "d = 1.5"
   ]
  },
  {
   "cell_type": "markdown",
   "id": "29feaa79",
   "metadata": {},
   "source": [
    "* 사칙연산"
   ]
  },
  {
   "cell_type": "code",
   "execution_count": 3,
   "id": "71b7450e",
   "metadata": {},
   "outputs": [],
   "source": [
    "a = 10\n",
    "b = 3\n",
    "\n",
    "addition = a + b  # 13\n",
    "subtraction = a - b  # 7\n",
    "multiplication = a * b  # 30\n",
    "division = a / b  # 3.3333333333333335 (실수형 결과)"
   ]
  },
  {
   "cell_type": "markdown",
   "id": "55bd51d3",
   "metadata": {},
   "source": [
    "* 나머지 연산 및 몫 연산"
   ]
  },
  {
   "cell_type": "code",
   "execution_count": 4,
   "id": "e594931d",
   "metadata": {},
   "outputs": [],
   "source": [
    "remainder = a % b  # 1\n",
    "quotient = a // b  # 3"
   ]
  },
  {
   "cell_type": "markdown",
   "id": "d0da12c9",
   "metadata": {},
   "source": [
    "* 지수 연산"
   ]
  },
  {
   "cell_type": "code",
   "execution_count": 5,
   "id": "305db2fb",
   "metadata": {},
   "outputs": [],
   "source": [
    "exponentiation = a ** b  # 1000"
   ]
  },
  {
   "cell_type": "markdown",
   "id": "32bc06a4",
   "metadata": {},
   "source": [
    "* 정수를 실수로 변환"
   ]
  },
  {
   "cell_type": "code",
   "execution_count": null,
   "id": "702bb301",
   "metadata": {},
   "outputs": [],
   "source": [
    "a = 42\n",
    "result = float(a)  # result = 42.0\n",
    "print(result)"
   ]
  },
  {
   "cell_type": "markdown",
   "id": "0eed2384",
   "metadata": {},
   "source": [
    "* 실수를 정수로 변환  \n",
    ": 실수를 정수로 변환하기 위해서는 round() 함수를 사용할 수 있습니다. 이 함수는 주어진 실수를 가장 가까운 정수로 반올림한 값을 반환합니다. int() 함수를 사용해 실수를 정수로 변환할 수도 있지만, 이 경우 소수점 이하를 버립니다."
   ]
  },
  {
   "cell_type": "code",
   "execution_count": null,
   "id": "dabb408f",
   "metadata": {},
   "outputs": [],
   "source": [
    "a = 5.8\n",
    "result = round(a)  # result = 6\n",
    "print(result)"
   ]
  },
  {
   "cell_type": "code",
   "execution_count": null,
   "id": "9a64f5bf",
   "metadata": {},
   "outputs": [],
   "source": [
    "a = 5.8516\n",
    "result = round(a, 3)  # result = 5.852\n",
    "print(result)"
   ]
  },
  {
   "cell_type": "code",
   "execution_count": null,
   "id": "709131df",
   "metadata": {},
   "outputs": [],
   "source": [
    "a = 5.8\n",
    "result = int(a)  # result = 5\n",
    "print(result)"
   ]
  },
  {
   "cell_type": "markdown",
   "id": "7dde8785",
   "metadata": {},
   "source": [
    "* 절대값 표현"
   ]
  },
  {
   "cell_type": "code",
   "execution_count": null,
   "id": "08b8c3c1",
   "metadata": {},
   "outputs": [],
   "source": [
    "a = -3\n",
    "result = abs(a) # result = 3\n",
    "print(result)"
   ]
  },
  {
   "cell_type": "markdown",
   "id": "f5d54acb",
   "metadata": {},
   "source": [
    "### 숫자형 자료형 연습문제\n",
    "1. 변수 a에 정수 10을, 변수 b에 실수 3.14를 저장하고 출력하세요."
   ]
  },
  {
   "cell_type": "code",
   "execution_count": null,
   "id": "143805fb",
   "metadata": {},
   "outputs": [],
   "source": []
  },
  {
   "cell_type": "markdown",
   "id": "0d0c438b",
   "metadata": {},
   "source": [
    "2. 변수 a에 5를, 변수 b에 3을 저장한 뒤, 두 수의 합을 출력하세요."
   ]
  },
  {
   "cell_type": "code",
   "execution_count": null,
   "id": "fcfc3aa4",
   "metadata": {},
   "outputs": [],
   "source": []
  },
  {
   "cell_type": "markdown",
   "id": "c6baa97f",
   "metadata": {},
   "source": [
    "3. 변수 a에 7을, 변수 b에 4를 저장한 뒤, 두 수의 곱을 출력하세요."
   ]
  },
  {
   "cell_type": "code",
   "execution_count": null,
   "id": "3eb2b2af",
   "metadata": {},
   "outputs": [],
   "source": []
  },
  {
   "cell_type": "markdown",
   "id": "6fd5ee88",
   "metadata": {},
   "source": [
    "4. 변수 a에 10을, 변수 b에 3을 저장한 뒤, 두 수를 나눈 결과를 출력하세요."
   ]
  },
  {
   "cell_type": "code",
   "execution_count": null,
   "id": "31b9321d",
   "metadata": {},
   "outputs": [],
   "source": []
  },
  {
   "cell_type": "markdown",
   "id": "76fab045",
   "metadata": {},
   "source": [
    "5. 변수 a에 9를, 변수 b에 4를 저장한 뒤, 두 수를 나눈 나머지를 출력하세요."
   ]
  },
  {
   "cell_type": "code",
   "execution_count": null,
   "id": "b114cfca",
   "metadata": {},
   "outputs": [],
   "source": []
  },
  {
   "cell_type": "markdown",
   "id": "0c3dd7a7",
   "metadata": {},
   "source": [
    "6. 변수 a에 2를, 변수 b에 3을 저장한 뒤, a의 b 거듭제곱을 출력하세요."
   ]
  },
  {
   "cell_type": "code",
   "execution_count": null,
   "id": "0678ba04",
   "metadata": {},
   "outputs": [],
   "source": []
  },
  {
   "cell_type": "markdown",
   "id": "416c8a72",
   "metadata": {},
   "source": [
    "7. 변수 a에 17을, 변수 b에 4를 저장한 뒤, 두 수를 정수 나누기 연산하여 출력하세요."
   ]
  },
  {
   "cell_type": "code",
   "execution_count": null,
   "id": "7e012009",
   "metadata": {},
   "outputs": [],
   "source": []
  },
  {
   "cell_type": "markdown",
   "id": "a3a64737",
   "metadata": {},
   "source": [
    "8. 변수 a에 3.141592를 저장한 뒤, 소수점 둘째 자리까지 반올림하여 출력하세요."
   ]
  },
  {
   "cell_type": "code",
   "execution_count": null,
   "id": "2cd0ee7d",
   "metadata": {},
   "outputs": [],
   "source": []
  },
  {
   "cell_type": "markdown",
   "id": "8b79f5de",
   "metadata": {},
   "source": [
    "9. 변수 a에 -5를 저장한 뒤, a의 절댓값을 출력하세요."
   ]
  },
  {
   "cell_type": "code",
   "execution_count": null,
   "id": "ffd9843e",
   "metadata": {},
   "outputs": [],
   "source": []
  },
  {
   "cell_type": "markdown",
   "id": "de307fe2",
   "metadata": {},
   "source": [
    "10. 변수 a에 정수 7을 저장한 뒤, 실수 형태로 변환하여 출력하세요."
   ]
  },
  {
   "cell_type": "code",
   "execution_count": null,
   "id": "2623b7ba",
   "metadata": {},
   "outputs": [],
   "source": []
  },
  {
   "cell_type": "markdown",
   "id": "352aef13",
   "metadata": {},
   "source": [
    "## 문자열 자료형\n",
    "문자열(String) 자료형은 프로그래밍 언어에서 텍스트 데이터를 다루기 위한 자료형입니다.   \n",
    ": 파이썬에서 문자열은 작은따옴표('') 또는 큰따옴표(\"\")로 둘러싸인 일련의 문자들로 표현됩니다."
   ]
  },
  {
   "cell_type": "markdown",
   "id": "5b0e9718",
   "metadata": {},
   "source": [
    "* 문자열 생성"
   ]
  },
  {
   "cell_type": "code",
   "execution_count": null,
   "id": "cdd3a077",
   "metadata": {},
   "outputs": [],
   "source": [
    "str1 = \"Hello\"\n",
    "str2 = 'World'"
   ]
  },
  {
   "cell_type": "markdown",
   "id": "1084dc05",
   "metadata": {},
   "source": [
    "* 문자열 연산"
   ]
  },
  {
   "cell_type": "code",
   "execution_count": null,
   "id": "8dce7ab4",
   "metadata": {},
   "outputs": [],
   "source": [
    "str3 = str1 + \" \" + str2  # \"Hello World\"\n",
    "print(str3)"
   ]
  },
  {
   "cell_type": "code",
   "execution_count": null,
   "id": "9eea9dc4",
   "metadata": {},
   "outputs": [],
   "source": [
    "repeat_str = str1 * 3  # \"HelloHelloHello\"\n",
    "print(repeat_str)"
   ]
  },
  {
   "cell_type": "markdown",
   "id": "ae18ff8f",
   "metadata": {},
   "source": [
    "* 문자열 길이 구하기"
   ]
  },
  {
   "cell_type": "code",
   "execution_count": null,
   "id": "8aa2e518",
   "metadata": {},
   "outputs": [],
   "source": [
    "length = len(str3)  # 11\n",
    "print(length)"
   ]
  },
  {
   "cell_type": "markdown",
   "id": "61e23805",
   "metadata": {},
   "source": [
    "* 문자열 인덱싱"
   ]
  },
  {
   "cell_type": "code",
   "execution_count": null,
   "id": "121121e5",
   "metadata": {},
   "outputs": [],
   "source": [
    "first_char = str3[0]  # 'H'\n",
    "last_char = str3[-1]  # 'd'\n",
    "print(first_char, last_char)"
   ]
  },
  {
   "cell_type": "markdown",
   "id": "94f99512",
   "metadata": {},
   "source": [
    "* 문자열 슬라이싱"
   ]
  },
  {
   "cell_type": "code",
   "execution_count": null,
   "id": "9f69940d",
   "metadata": {},
   "outputs": [],
   "source": [
    "substring = str3[0:5]  # \"Hello\"\n",
    "print(substring)"
   ]
  },
  {
   "cell_type": "markdown",
   "id": "11a9e5f3",
   "metadata": {},
   "source": [
    "* 문자열 포함 여부 확인"
   ]
  },
  {
   "cell_type": "code",
   "execution_count": null,
   "id": "8b13e8bf",
   "metadata": {},
   "outputs": [],
   "source": [
    "check = \"ello\" in str1  # True\n",
    "print(check)"
   ]
  },
  {
   "cell_type": "markdown",
   "id": "8a6977ff",
   "metadata": {},
   "source": [
    "* 문자열 대소문자 변환"
   ]
  },
  {
   "cell_type": "code",
   "execution_count": null,
   "id": "1193bee2",
   "metadata": {},
   "outputs": [],
   "source": [
    "lowercase_str = str3.lower()  # \"hello world\"\n",
    "uppercase_str = str3.upper()  # \"HELLO WORLD\"\n",
    "print(lowercase_str, uppercase_str)"
   ]
  },
  {
   "cell_type": "markdown",
   "id": "d66bf24b",
   "metadata": {},
   "source": [
    "* 문자열 분리"
   ]
  },
  {
   "cell_type": "code",
   "execution_count": null,
   "id": "a1f08ce1",
   "metadata": {},
   "outputs": [],
   "source": [
    "words = str3.split(\" \")  # ['Hello', 'World']\n",
    "print(words)"
   ]
  },
  {
   "cell_type": "markdown",
   "id": "f235cd97",
   "metadata": {},
   "source": [
    "* 문자열 결합"
   ]
  },
  {
   "cell_type": "code",
   "execution_count": null,
   "id": "f41ff387",
   "metadata": {},
   "outputs": [],
   "source": [
    "joined_str = \"-\".join(words)  # \"Hello-World\"\n",
    "print(joined_str)"
   ]
  },
  {
   "cell_type": "markdown",
   "id": "0fdf2a25",
   "metadata": {},
   "source": [
    "* 문자열 대체"
   ]
  },
  {
   "cell_type": "code",
   "execution_count": null,
   "id": "5f14f7da",
   "metadata": {},
   "outputs": [],
   "source": [
    "replaced_str = str3.replace(\"World\", \"Python\")  # \"Hello Python\"\n",
    "print(replaced_str)"
   ]
  },
  {
   "cell_type": "markdown",
   "id": "2a4eea19",
   "metadata": {},
   "source": [
    "* 문자열 포매팅"
   ]
  },
  {
   "cell_type": "code",
   "execution_count": null,
   "id": "425bc50f",
   "metadata": {},
   "outputs": [],
   "source": [
    "name = \"Alice\"\n",
    "age = 30\n",
    "\n",
    "formatted_str2 = \"My name is {} and I am {} years old.\".format(name, age)\n",
    "print(formatted_str2)"
   ]
  },
  {
   "cell_type": "markdown",
   "id": "cac40ab5",
   "metadata": {},
   "source": [
    "* 문자열에서 특정 문자 개수 세기"
   ]
  },
  {
   "cell_type": "code",
   "execution_count": null,
   "id": "2e1a21bd",
   "metadata": {},
   "outputs": [],
   "source": [
    "text = \"hello world, world\"\n",
    "count = text.count(\"world\")  # 2\n",
    "print(count)"
   ]
  },
  {
   "cell_type": "markdown",
   "id": "8853caca",
   "metadata": {},
   "source": [
    "* 문자열에서 문자열 찾기  \n",
    ": str.find(substring) 함수는 문자열에서 특정 부분 문자열을 찾아 시작 인덱스를 반환하며, 찾지 못할 경우 -1을 반환합니다."
   ]
  },
  {
   "cell_type": "code",
   "execution_count": null,
   "id": "00063e0f",
   "metadata": {},
   "outputs": [],
   "source": [
    "text = \"hello world\"\n",
    "find_result = text.find(\"world\")  # 6\n",
    "print(find_result)"
   ]
  },
  {
   "cell_type": "code",
   "execution_count": null,
   "id": "eb12291e",
   "metadata": {},
   "outputs": [],
   "source": [
    "not_found = text.find(\"python\")  # -1\n",
    "print(not_found)"
   ]
  },
  {
   "cell_type": "markdown",
   "id": "b490a12c",
   "metadata": {},
   "source": [
    "* 문자열 공백 제거  \n",
    ": str.strip() 함수는 문자열 양쪽의 공백을 제거합니다. str.lstrip() 함수는 문자열 왼쪽의 공백을 제거하며, str.rstrip() 함수는 문자열 오른쪽의 공백을 제거합니다."
   ]
  },
  {
   "cell_type": "code",
   "execution_count": null,
   "id": "60d2bc51",
   "metadata": {},
   "outputs": [],
   "source": [
    "text = \"  hello world  \"\n",
    "stripped = text.strip()  # \"hello world\"\n",
    "left_stripped = text.lstrip()  # \"hello world  \"\n",
    "right_stripped = text.rstrip()  # \"  hello world\"\n",
    "print(stripped, left_stripped, right_stripped)"
   ]
  },
  {
   "cell_type": "markdown",
   "id": "f780dfed",
   "metadata": {},
   "source": [
    "문자열 시작/끝 확인 (startswith, endswith)\n",
    "* str.startswith(prefix) 함수는 문자열이 특정 문자열로 시작하는지 확인합니다.\n",
    "* str.endswith(suffix) 함수는 문자열이 특정 문자열로 끝나는지 확인합니다."
   ]
  },
  {
   "cell_type": "code",
   "execution_count": null,
   "id": "b2586b22",
   "metadata": {},
   "outputs": [],
   "source": [
    "text = \"hello world\"\n",
    "starts_with_hello = text.startswith(\"hello\")  # True\n",
    "ends_with_world = text.endswith(\"world\")  # True\n",
    "print(starts_with_hello, ends_with_world)"
   ]
  },
  {
   "cell_type": "markdown",
   "id": "a18d2dad",
   "metadata": {},
   "source": [
    "### 문자열 자료형 연습문제"
   ]
  },
  {
   "cell_type": "markdown",
   "id": "e1b8e8dd",
   "metadata": {},
   "source": [
    "1. 변수 name에 자신의 이름을 문자열로 저장하고 출력하세요."
   ]
  },
  {
   "cell_type": "code",
   "execution_count": null,
   "id": "63eecfde",
   "metadata": {},
   "outputs": [],
   "source": []
  },
  {
   "cell_type": "markdown",
   "id": "defb5ba6",
   "metadata": {},
   "source": [
    "2. 변수 text에 \"Hello, World!\"를 저장하고 문자열의 길이를 출력하세요."
   ]
  },
  {
   "cell_type": "code",
   "execution_count": null,
   "id": "374a1637",
   "metadata": {},
   "outputs": [],
   "source": []
  },
  {
   "cell_type": "markdown",
   "id": "a6852dc8",
   "metadata": {},
   "source": [
    "3. 변수 str1에 \"Hello\"를, 변수 str2에 \"World\"를 저장한 뒤, 두 문자열을 합쳐 \"Hello, World!\"를 출력하세요."
   ]
  },
  {
   "cell_type": "code",
   "execution_count": null,
   "id": "861527b7",
   "metadata": {},
   "outputs": [],
   "source": []
  },
  {
   "cell_type": "markdown",
   "id": "43267463",
   "metadata": {},
   "source": [
    "4. 변수 text에 \"Hello, World!\"를 저장하고, 첫 번째 문자와 마지막 문자를 출력하세요."
   ]
  },
  {
   "cell_type": "code",
   "execution_count": null,
   "id": "fe0cbf06",
   "metadata": {},
   "outputs": [],
   "source": []
  },
  {
   "cell_type": "markdown",
   "id": "80585693",
   "metadata": {},
   "source": [
    "5. 변수 text에 \"Hello, World!\"를 저장하고, \"Hello\"와 \"World\" 부분을 추출하여 출력하세요."
   ]
  },
  {
   "cell_type": "code",
   "execution_count": null,
   "id": "4ad82d76",
   "metadata": {},
   "outputs": [],
   "source": []
  },
  {
   "cell_type": "markdown",
   "id": "f129ff54",
   "metadata": {},
   "source": [
    "6. 변수 text에 \"abracadabra\"를 저장하고, 문자 'a'의 개수를 출력하세요."
   ]
  },
  {
   "cell_type": "code",
   "execution_count": null,
   "id": "e4a809d2",
   "metadata": {},
   "outputs": [],
   "source": []
  },
  {
   "cell_type": "markdown",
   "id": "2a14f2cc",
   "metadata": {},
   "source": [
    "7. 변수 text에 \"Python is fun!\"을 저장하고, 문자열 \"fun\"이 시작하는 인덱스를 출력하세요."
   ]
  },
  {
   "cell_type": "code",
   "execution_count": null,
   "id": "7c2c508b",
   "metadata": {},
   "outputs": [],
   "source": []
  },
  {
   "cell_type": "markdown",
   "id": "a8a4e448",
   "metadata": {},
   "source": [
    "8. 변수 text에 \"python programming\"을 저장하고, 대문자로 변경하여 출력하세요."
   ]
  },
  {
   "cell_type": "code",
   "execution_count": null,
   "id": "78d6b14e",
   "metadata": {},
   "outputs": [],
   "source": []
  },
  {
   "cell_type": "markdown",
   "id": "a3243b64",
   "metadata": {},
   "source": [
    "9. 변수 text에 \"apple,banana,orange\"를 저장하고, 쉼표를 기준으로 문자열을 분리하여 리스트로 출력하세요."
   ]
  },
  {
   "cell_type": "code",
   "execution_count": null,
   "id": "b91fcb53",
   "metadata": {},
   "outputs": [],
   "source": []
  },
  {
   "cell_type": "markdown",
   "id": "13270958",
   "metadata": {},
   "source": [
    "10. 변수 text에 \"I love cats\"를 저장하고, \"cats\"를 \"dogs\"로 바꾼 뒤 출력하세요."
   ]
  },
  {
   "cell_type": "code",
   "execution_count": null,
   "id": "a45d5643",
   "metadata": {},
   "outputs": [],
   "source": []
  },
  {
   "cell_type": "markdown",
   "id": "8278bec4",
   "metadata": {},
   "source": [
    "## 리스트 자료형\n",
    "리스트(list) 자료형은 여러 개의 값을 순차적으로 저장하는 데 사용되는 파이썬의 자료형입니다.   \n",
    ": 리스트는 대괄호([])를 사용하여 생성하며, 요소들은 쉼표(,)로 구분됩니다. 리스트는 다양한 타입의 데이터를 저장할 수 있고, 중첩된 리스트도 가능합니다."
   ]
  },
  {
   "cell_type": "markdown",
   "id": "fc61bf06",
   "metadata": {},
   "source": [
    "* 리스트 생성"
   ]
  },
  {
   "cell_type": "code",
   "execution_count": null,
   "id": "6e7dd257",
   "metadata": {},
   "outputs": [],
   "source": [
    "fruits = [\"apple\", \"banana\", \"cherry\"]\n",
    "print(fruits)"
   ]
  },
  {
   "cell_type": "code",
   "execution_count": null,
   "id": "f1e106dc",
   "metadata": {},
   "outputs": [],
   "source": [
    "nested_list = [1, 2, [3, 4], [5, 6]]\n",
    "print(nested_list)"
   ]
  },
  {
   "cell_type": "markdown",
   "id": "1251bb3b",
   "metadata": {},
   "source": [
    "* 리스트 길이 구하기"
   ]
  },
  {
   "cell_type": "code",
   "execution_count": null,
   "id": "135b79e4",
   "metadata": {},
   "outputs": [],
   "source": [
    "fruits = [\"apple\", \"banana\", \"cherry\"]\n",
    "length = len(fruits)\n",
    "print(length)"
   ]
  },
  {
   "cell_type": "markdown",
   "id": "1c2356b6",
   "metadata": {},
   "source": [
    "* 리스트 연산"
   ]
  },
  {
   "cell_type": "code",
   "execution_count": null,
   "id": "4004f6f8",
   "metadata": {},
   "outputs": [],
   "source": [
    "list1 = [1, 2, 3]\n",
    "list2 = [4, 5, 6]\n",
    "combined_list = list1 + list2\n",
    "print(combined_list)"
   ]
  },
  {
   "cell_type": "code",
   "execution_count": null,
   "id": "54b9fb8a",
   "metadata": {},
   "outputs": [],
   "source": [
    "list1 = [1, 2, 3]\n",
    "combined_list = list1 * 5\n",
    "print(combined_list)"
   ]
  },
  {
   "cell_type": "markdown",
   "id": "79bb9b97",
   "metadata": {},
   "source": [
    "* 리스트 값 변경하기"
   ]
  },
  {
   "cell_type": "code",
   "execution_count": null,
   "id": "791f0e34",
   "metadata": {},
   "outputs": [],
   "source": [
    "fruits = [\"apple\", \"banana\", \"cherry\"]\n",
    "fruits[1] = \"blueberry\"\n",
    "print(fruits)"
   ]
  },
  {
   "cell_type": "markdown",
   "id": "c3b3a1a5",
   "metadata": {},
   "source": [
    "* 리스트 인덱싱"
   ]
  },
  {
   "cell_type": "code",
   "execution_count": null,
   "id": "85724be7",
   "metadata": {},
   "outputs": [],
   "source": [
    "fruits = [\"apple\", \"banana\", \"cherry\"]\n",
    "first_fruit = fruits[0]\n",
    "last_fruit = fruits[-1]\n",
    "print(first_fruit, last_fruit)"
   ]
  },
  {
   "cell_type": "markdown",
   "id": "eca7f208",
   "metadata": {},
   "source": [
    "* 리스트 슬라이싱"
   ]
  },
  {
   "cell_type": "code",
   "execution_count": null,
   "id": "60acece0",
   "metadata": {},
   "outputs": [],
   "source": [
    "fruits = [\"apple\", \"banana\", \"cherry\", \"orange\", \"grape\"]\n",
    "some_fruits = fruits[1:4]\n",
    "print(some_fruits)"
   ]
  },
  {
   "cell_type": "markdown",
   "id": "a9dfc26c",
   "metadata": {},
   "source": [
    "* 리스트에 요소 추가하기"
   ]
  },
  {
   "cell_type": "code",
   "execution_count": null,
   "id": "cb789fdc",
   "metadata": {},
   "outputs": [],
   "source": [
    "fruits = [\"apple\", \"banana\", \"cherry\"]\n",
    "fruits.append(\"orange\")\n",
    "print(fruits)"
   ]
  },
  {
   "cell_type": "markdown",
   "id": "ed8a69eb",
   "metadata": {},
   "source": [
    "* 리스트에서 요소 삭제하기"
   ]
  },
  {
   "cell_type": "code",
   "execution_count": null,
   "id": "f1e5434c",
   "metadata": {},
   "outputs": [],
   "source": [
    "fruits = [\"apple\", \"banana\", \"cherry\"]\n",
    "fruits.remove(\"banana\")\n",
    "print(fruits)"
   ]
  },
  {
   "cell_type": "markdown",
   "id": "2280f631",
   "metadata": {},
   "source": [
    "* 리스트 정렬하기"
   ]
  },
  {
   "cell_type": "code",
   "execution_count": null,
   "id": "1ba6712d",
   "metadata": {},
   "outputs": [],
   "source": [
    "numbers = [5, 2, 8, 1, 3]\n",
    "numbers.sort()\n",
    "print(numbers)"
   ]
  },
  {
   "cell_type": "code",
   "execution_count": null,
   "id": "91ae4bee",
   "metadata": {},
   "outputs": [],
   "source": [
    "numbers = [5, 2, 8, 1, 3]\n",
    "numbers.sort(reverse=True) # 내림차순 정렬\n",
    "print(numbers)"
   ]
  },
  {
   "cell_type": "markdown",
   "id": "e759ad54",
   "metadata": {},
   "source": [
    "* 리스트에서 특정 값이 가장 처음 나오는 인덱스 구하기 (index 메서드)"
   ]
  },
  {
   "cell_type": "code",
   "execution_count": null,
   "id": "db907eb2",
   "metadata": {},
   "outputs": [],
   "source": [
    "fruits = [\"apple\", \"banana\", \"cherry\", \"apple\"]\n",
    "index = fruits.index(\"apple\")\n",
    "print(index)  # 0이 출력됩니다."
   ]
  },
  {
   "cell_type": "markdown",
   "id": "c11f59af",
   "metadata": {},
   "source": [
    "* 리스트에서 특정 값 개수 세기"
   ]
  },
  {
   "cell_type": "code",
   "execution_count": null,
   "id": "1d015af7",
   "metadata": {},
   "outputs": [],
   "source": [
    "fruits = [\"apple\", \"banana\", \"cherry\", \"apple\"]\n",
    "count = fruits.count(\"apple\")\n",
    "print(count)  # 2가 출력됩니다."
   ]
  },
  {
   "cell_type": "markdown",
   "id": "a98cbc2e",
   "metadata": {},
   "source": [
    "* 리스트 뒤집기"
   ]
  },
  {
   "cell_type": "code",
   "execution_count": null,
   "id": "e54d6b73",
   "metadata": {},
   "outputs": [],
   "source": [
    "fruits = [\"apple\", \"banana\", \"cherry\"]\n",
    "fruits.reverse()\n",
    "print(fruits)"
   ]
  },
  {
   "cell_type": "markdown",
   "id": "9155b7a0",
   "metadata": {},
   "source": [
    "### 리스트 자료형 연습문제"
   ]
  },
  {
   "cell_type": "markdown",
   "id": "239358df",
   "metadata": {},
   "source": [
    "1. 변수 fruits에 \"apple\", \"banana\", \"cherry\"를 저장한 리스트를 생성하고 출력하세요."
   ]
  },
  {
   "cell_type": "code",
   "execution_count": null,
   "id": "cf446282",
   "metadata": {},
   "outputs": [],
   "source": []
  },
  {
   "cell_type": "markdown",
   "id": "4c437743",
   "metadata": {},
   "source": [
    "2. 변수 fruits에 [\"apple\", \"banana\", \"cherry\"]가 저장되어 있습니다. 리스트의 길이를 출력하세요."
   ]
  },
  {
   "cell_type": "code",
   "execution_count": null,
   "id": "8caa0b59",
   "metadata": {},
   "outputs": [],
   "source": []
  },
  {
   "cell_type": "markdown",
   "id": "87e7b1c6",
   "metadata": {},
   "source": [
    "3. 변수 fruits에 [\"apple\", \"banana\", \"cherry\"]가 저장되어 있습니다. 첫 번째 요소를 출력하세요."
   ]
  },
  {
   "cell_type": "code",
   "execution_count": null,
   "id": "227de421",
   "metadata": {},
   "outputs": [],
   "source": []
  },
  {
   "cell_type": "markdown",
   "id": "a0069352",
   "metadata": {},
   "source": [
    "4. 변수 fruits에 [\"apple\", \"banana\", \"cherry\", \"orange\", \"grape\"]가 저장되어 있습니다. 두 번째부터 네 번째 요소를 슬라이싱하여 출력하세요."
   ]
  },
  {
   "cell_type": "code",
   "execution_count": null,
   "id": "a1352ac1",
   "metadata": {},
   "outputs": [],
   "source": []
  },
  {
   "cell_type": "markdown",
   "id": "16755e0b",
   "metadata": {},
   "source": [
    "5. 변수 fruits에 [\"apple\", \"banana\", \"cherry\"]가 저장되어 있습니다. \"orange\"를 리스트 끝에 추가하고 출력하세요."
   ]
  },
  {
   "cell_type": "code",
   "execution_count": null,
   "id": "780bc299",
   "metadata": {},
   "outputs": [],
   "source": []
  },
  {
   "cell_type": "markdown",
   "id": "bfa6ac4d",
   "metadata": {},
   "source": [
    "6. 변수 fruits에 [\"apple\", \"banana\", \"cherry\"]가 저장되어 있습니다. \"banana\"를 제거하고 출력하세요."
   ]
  },
  {
   "cell_type": "code",
   "execution_count": null,
   "id": "a121b2ac",
   "metadata": {},
   "outputs": [],
   "source": []
  },
  {
   "cell_type": "markdown",
   "id": "52f2a1bc",
   "metadata": {},
   "source": [
    "7. 변수 numbers에 [3, 1, 4, 2, 5]가 저장되어 있습니다. 리스트를 오름차순으로 정렬하고 출력하세요."
   ]
  },
  {
   "cell_type": "code",
   "execution_count": null,
   "id": "263027c9",
   "metadata": {},
   "outputs": [],
   "source": []
  },
  {
   "cell_type": "markdown",
   "id": "04bc5827",
   "metadata": {},
   "source": [
    "8. 변수 list1에 [1, 2, 3]이 저장되어 있고, 변수 list2에 [4, 5, 6]이 저장되어 있습니다. 두 리스트를 연결하고 출력하세요."
   ]
  },
  {
   "cell_type": "code",
   "execution_count": null,
   "id": "d3fcce87",
   "metadata": {},
   "outputs": [],
   "source": []
  },
  {
   "cell_type": "markdown",
   "id": "791417a5",
   "metadata": {},
   "source": [
    "9. 변수 fruits에 [\"apple\", \"banana\"]가 저장되어 있습니다. 이 리스트를 세 번 반복하여 출력하세요."
   ]
  },
  {
   "cell_type": "code",
   "execution_count": null,
   "id": "a5b5a822",
   "metadata": {},
   "outputs": [],
   "source": []
  },
  {
   "cell_type": "markdown",
   "id": "11338ac1",
   "metadata": {},
   "source": [
    "10. 변수 fruits에 [\"apple\", \"banana\", \"apple\", \"cherry\", \"apple\"]가 저장되어 있습니다. \"apple\"이 몇 번 나오는지 세고 출력하세요."
   ]
  },
  {
   "cell_type": "code",
   "execution_count": null,
   "id": "428b6ef1",
   "metadata": {},
   "outputs": [],
   "source": []
  },
  {
   "cell_type": "markdown",
   "id": "70f7e82e",
   "metadata": {},
   "source": [
    "## 튜플 자료형\n",
    "튜플(tuple) 자료형은 여러 개의 값을 순차적으로 저장하는 데 사용되는 파이썬의 자료형입니다.   \n",
    ": 튜플은 소괄호(())를 사용하여 생성하며, 요소들은 쉼표(,)로 구분됩니다. 튜플은 다양한 타입의 데이터를 저장할 수 있고, 중첩된 튜플도 가능합니다. 튜플은 불변(immutable)하다는 점에서 리스트와 차이가 있습니다."
   ]
  },
  {
   "cell_type": "markdown",
   "id": "6069f26b",
   "metadata": {},
   "source": [
    "* 튜플 생성"
   ]
  },
  {
   "cell_type": "code",
   "execution_count": null,
   "id": "df8fb272",
   "metadata": {},
   "outputs": [],
   "source": [
    "colors = (\"red\", \"blue\", \"green\")\n",
    "print(colors)"
   ]
  },
  {
   "cell_type": "markdown",
   "id": "b40c42e4",
   "metadata": {},
   "source": [
    "* 한 개의 요소를 가진 튜플 생성"
   ]
  },
  {
   "cell_type": "code",
   "execution_count": null,
   "id": "36b5a6eb",
   "metadata": {},
   "outputs": [],
   "source": [
    "single_element_tuple = (42)\n",
    "print(single_element_tuple)"
   ]
  },
  {
   "cell_type": "code",
   "execution_count": null,
   "id": "cf2c8d04",
   "metadata": {},
   "outputs": [],
   "source": [
    "single_element_tuple = (42,)\n",
    "print(single_element_tuple)"
   ]
  },
  {
   "cell_type": "markdown",
   "id": "f01f39fc",
   "metadata": {},
   "source": [
    "* 튜플 길이 구하기"
   ]
  },
  {
   "cell_type": "code",
   "execution_count": null,
   "id": "4fff7c40",
   "metadata": {},
   "outputs": [],
   "source": [
    "colors = (\"red\", \"blue\", \"green\")\n",
    "length = len(colors)\n",
    "print(length)"
   ]
  },
  {
   "cell_type": "markdown",
   "id": "205e316c",
   "metadata": {},
   "source": [
    "* 튜플 인덱싱"
   ]
  },
  {
   "cell_type": "code",
   "execution_count": null,
   "id": "09efc8b4",
   "metadata": {},
   "outputs": [],
   "source": [
    "colors = (\"red\", \"blue\", \"green\")\n",
    "first_color = colors[0]\n",
    "last_color = colors[-1]\n",
    "print(first_color, last_color)"
   ]
  },
  {
   "cell_type": "markdown",
   "id": "b837cc9f",
   "metadata": {},
   "source": [
    "* 튜플 슬라이싱"
   ]
  },
  {
   "cell_type": "code",
   "execution_count": null,
   "id": "0309d2b0",
   "metadata": {},
   "outputs": [],
   "source": [
    "colors = (\"red\", \"blue\", \"green\", \"yellow\", \"purple\")\n",
    "some_colors = colors[1:4]\n",
    "print(some_colors)"
   ]
  },
  {
   "cell_type": "markdown",
   "id": "dad2a6f4",
   "metadata": {},
   "source": [
    "* 튜플 연산"
   ]
  },
  {
   "cell_type": "code",
   "execution_count": null,
   "id": "bf420cdd",
   "metadata": {},
   "outputs": [],
   "source": [
    "tuple1 = (1, 2, 3)\n",
    "tuple2 = (4, 5, 6)\n",
    "combined_tuple = tuple1 + tuple2\n",
    "print(combined_tuple)"
   ]
  },
  {
   "cell_type": "code",
   "execution_count": null,
   "id": "6d2a6a91",
   "metadata": {},
   "outputs": [],
   "source": [
    "combined_tuple = tuple1 * 3\n",
    "print(combined_tuple)"
   ]
  },
  {
   "cell_type": "markdown",
   "id": "c268780f",
   "metadata": {},
   "source": [
    "* 패킹, 언패킹  \n",
    ": 패킹은 여러 개의 값을 하나의 튜플로 묶는 것이고, 언패킹은 튜플의 요소들을 여러 개의 변수에 할당하는 것입니다."
   ]
  },
  {
   "cell_type": "code",
   "execution_count": null,
   "id": "d2762dda",
   "metadata": {},
   "outputs": [],
   "source": [
    "# 패킹\n",
    "packed_tuple = 1, 2, 3, 4\n",
    "print(packed_tuple)\n",
    "\n",
    "# 언패킹\n",
    "a, b, c, d = packed_tuple\n",
    "print(a, b, c, d)"
   ]
  },
  {
   "cell_type": "markdown",
   "id": "6be6b021",
   "metadata": {},
   "source": [
    "* 튜플 스왑  \n",
    ": 튜플을 사용하여 두 변수의 값을 서로 바꿀 수 있습니다."
   ]
  },
  {
   "cell_type": "code",
   "execution_count": null,
   "id": "8dcd7825",
   "metadata": {},
   "outputs": [],
   "source": [
    "a = 5\n",
    "b = 10\n",
    "\n",
    "a, b = b, a\n",
    "print(a, b)  # 결과: 10 5"
   ]
  },
  {
   "cell_type": "markdown",
   "id": "6e8d8db9",
   "metadata": {},
   "source": [
    "* 튜플에서 요소 개수 세기"
   ]
  },
  {
   "cell_type": "code",
   "execution_count": null,
   "id": "f384c9f1",
   "metadata": {},
   "outputs": [],
   "source": [
    "numbers = (1, 2, 3, 2, 4, 2)\n",
    "count = numbers.count(2)\n",
    "print(count)  # 결과: 3"
   ]
  },
  {
   "cell_type": "markdown",
   "id": "04c8ad20",
   "metadata": {},
   "source": [
    "* 튜플에서 요소의 인덱스 찾기  \n",
    ": 튜플에서 특정 요소의 인덱스를 찾기 위해 index() 메서드를 사용할 수 있습니다. 해당 요소가 없으면 ValueError가 발생합니다."
   ]
  },
  {
   "cell_type": "code",
   "execution_count": null,
   "id": "808176f9",
   "metadata": {},
   "outputs": [],
   "source": [
    "colors = (\"red\", \"blue\", \"green\", \"yellow\", \"purple\")\n",
    "index = colors.index(\"green\")\n",
    "print(index)  # 결과: 2"
   ]
  },
  {
   "cell_type": "markdown",
   "id": "eff323f1",
   "metadata": {},
   "source": [
    "### 튜플 자료형 연습문제"
   ]
  },
  {
   "cell_type": "markdown",
   "id": "1ad61324",
   "metadata": {},
   "source": [
    "1. 변수 fruits에 'apple', 'banana', 'cherry'를 요소로 가진 튜플을 생성하세요."
   ]
  },
  {
   "cell_type": "code",
   "execution_count": null,
   "id": "9a540b51",
   "metadata": {},
   "outputs": [],
   "source": []
  },
  {
   "cell_type": "markdown",
   "id": "ed367c9e",
   "metadata": {},
   "source": [
    "2. fruits 튜플에서 'banana'를 출력하세요."
   ]
  },
  {
   "cell_type": "code",
   "execution_count": null,
   "id": "811e3667",
   "metadata": {},
   "outputs": [],
   "source": []
  },
  {
   "cell_type": "markdown",
   "id": "8d9c866e",
   "metadata": {},
   "source": [
    "3. fruits 튜플에서 'apple'과 'banana'를 추출하여 출력하세요."
   ]
  },
  {
   "cell_type": "code",
   "execution_count": null,
   "id": "22033cbf",
   "metadata": {},
   "outputs": [],
   "source": []
  },
  {
   "cell_type": "markdown",
   "id": "1f236256",
   "metadata": {},
   "source": [
    "4. fruits 튜플의 길이를 구한 후 출력하세요."
   ]
  },
  {
   "cell_type": "code",
   "execution_count": null,
   "id": "943a6993",
   "metadata": {},
   "outputs": [],
   "source": []
  },
  {
   "cell_type": "markdown",
   "id": "8cee1151",
   "metadata": {},
   "source": [
    "5. 변수 vegetables에 'carrot', 'potato', 'onion'을 요소로 가진 튜플을 생성하고, fruits와 vegetables를 연결한 새 튜플을 출력하세요."
   ]
  },
  {
   "cell_type": "code",
   "execution_count": null,
   "id": "04ef54d1",
   "metadata": {},
   "outputs": [],
   "source": []
  },
  {
   "cell_type": "markdown",
   "id": "5c57e97a",
   "metadata": {},
   "source": [
    "6. fruits 튜플을 세 번 반복하여 출력하세요."
   ]
  },
  {
   "cell_type": "code",
   "execution_count": null,
   "id": "9d4e7cfd",
   "metadata": {},
   "outputs": [],
   "source": []
  },
  {
   "cell_type": "markdown",
   "id": "48973036",
   "metadata": {},
   "source": [
    "7. 변수 numbers에 (1, 2, 3, 2, 4, 2)가 저장되어 있습니다. 숫자 2가 몇 번 나오는지 세고 출력하세요."
   ]
  },
  {
   "cell_type": "code",
   "execution_count": null,
   "id": "564abb4f",
   "metadata": {},
   "outputs": [],
   "source": []
  },
  {
   "cell_type": "markdown",
   "id": "565ae48a",
   "metadata": {},
   "source": [
    "8. 변수 colors에 ('red', 'blue', 'green', 'yellow', 'purple')가 저장되어 있습니다. 'green'의 인덱스를 찾고 출력하세요."
   ]
  },
  {
   "cell_type": "code",
   "execution_count": null,
   "id": "e5699e29",
   "metadata": {},
   "outputs": [],
   "source": []
  },
  {
   "cell_type": "markdown",
   "id": "7b511995",
   "metadata": {},
   "source": [
    "9. 변수 a에 5가 저장되어 있고, 변수 b에 10이 저장되어 있습니다. 튜플을 사용하여 두 변수의 값을 서로 바꾸세요."
   ]
  },
  {
   "cell_type": "markdown",
   "id": "a57bd803",
   "metadata": {},
   "source": [
    "## 딕셔너리 자료형\n",
    "딕셔너리(dictionary) 자료형은 키(key)와 값(value) 쌍으로 이루어진 자료형입니다.   \n",
    ": 파이썬에서는 중괄호 {} 안에 키: 값 형태로 표현하며, 각 요소들은 쉼표로 구분합니다. 딕셔너리는 순서가 없으며, 키를 통해 값을 검색할 수 있습니다."
   ]
  },
  {
   "cell_type": "markdown",
   "id": "29475cd7",
   "metadata": {},
   "source": [
    "* 딕셔너리 생성"
   ]
  },
  {
   "cell_type": "code",
   "execution_count": null,
   "id": "f729b728",
   "metadata": {},
   "outputs": [],
   "source": [
    "student = {\n",
    "    'name': 'John',\n",
    "    'age': 18,\n",
    "    'grade': 12\n",
    "}\n",
    "print(student)"
   ]
  },
  {
   "cell_type": "markdown",
   "id": "8b1bd197",
   "metadata": {},
   "source": [
    "* 딕셔너리에서 값에 접근하기 (키를 사용)"
   ]
  },
  {
   "cell_type": "code",
   "execution_count": null,
   "id": "b1302127",
   "metadata": {},
   "outputs": [],
   "source": [
    "name = student['name']\n",
    "print(name)  # 결과: 'John'"
   ]
  },
  {
   "cell_type": "markdown",
   "id": "2c40b28a",
   "metadata": {},
   "source": [
    "* 딕셔너리에 값 추가하기"
   ]
  },
  {
   "cell_type": "code",
   "execution_count": null,
   "id": "8db05092",
   "metadata": {},
   "outputs": [],
   "source": [
    "student['city'] = 'New York'\n",
    "print(student)"
   ]
  },
  {
   "cell_type": "markdown",
   "id": "6ff35af8",
   "metadata": {},
   "source": [
    "* 딕셔너리 값 수정하기"
   ]
  },
  {
   "cell_type": "code",
   "execution_count": null,
   "id": "37ae0da4",
   "metadata": {},
   "outputs": [],
   "source": [
    "student['age'] = 19\n",
    "print(student)"
   ]
  },
  {
   "cell_type": "markdown",
   "id": "29775780",
   "metadata": {},
   "source": [
    "* 딕셔너리에서 요소 삭제하기"
   ]
  },
  {
   "cell_type": "code",
   "execution_count": null,
   "id": "b2403058",
   "metadata": {},
   "outputs": [],
   "source": [
    "del student['grade']\n",
    "print(student)"
   ]
  },
  {
   "cell_type": "markdown",
   "id": "5addae3e",
   "metadata": {},
   "source": [
    "* 딕셔너리에서 키(keys) 확인하기"
   ]
  },
  {
   "cell_type": "code",
   "execution_count": null,
   "id": "d2e64a6e",
   "metadata": {},
   "outputs": [],
   "source": [
    "has_age = 'age' in student\n",
    "print(has_age)  # 결과: True"
   ]
  },
  {
   "cell_type": "markdown",
   "id": "d406e6e0",
   "metadata": {},
   "source": [
    "* 딕셔너리에서 모든 키 가져오기"
   ]
  },
  {
   "cell_type": "code",
   "execution_count": null,
   "id": "9febf869",
   "metadata": {},
   "outputs": [],
   "source": [
    "keys = student.keys()\n",
    "print(keys)"
   ]
  },
  {
   "cell_type": "markdown",
   "id": "7fe995dd",
   "metadata": {},
   "source": [
    "* 딕셔너리에서 모든 값 가져오기"
   ]
  },
  {
   "cell_type": "code",
   "execution_count": null,
   "id": "df72df1a",
   "metadata": {},
   "outputs": [],
   "source": [
    "values = student.values()\n",
    "print(values)"
   ]
  },
  {
   "cell_type": "markdown",
   "id": "e29274a0",
   "metadata": {},
   "source": [
    "* 딕셔너리에서 모든 키와 값 가져오기"
   ]
  },
  {
   "cell_type": "code",
   "execution_count": null,
   "id": "4c57b657",
   "metadata": {},
   "outputs": [],
   "source": [
    "items = student.items()\n",
    "print(items)"
   ]
  },
  {
   "cell_type": "markdown",
   "id": "ce6dfa53",
   "metadata": {},
   "source": [
    "### 딕셔너리 자료형 연습문제"
   ]
  },
  {
   "cell_type": "markdown",
   "id": "4fe5e133",
   "metadata": {},
   "source": [
    "1. 변수 animal에 'name': 'dog', 'sound': 'bark', 'legs': 4를 요소로 가진 딕셔너리를 생성하세요."
   ]
  },
  {
   "cell_type": "code",
   "execution_count": null,
   "id": "f7844231",
   "metadata": {},
   "outputs": [],
   "source": []
  },
  {
   "cell_type": "markdown",
   "id": "9410096e",
   "metadata": {},
   "source": [
    "2. animal 딕셔너리에서 'dog'를 출력하세요."
   ]
  },
  {
   "cell_type": "code",
   "execution_count": null,
   "id": "e449bf09",
   "metadata": {},
   "outputs": [],
   "source": []
  },
  {
   "cell_type": "markdown",
   "id": "5f2fd906",
   "metadata": {},
   "source": [
    "3. animal 딕셔너리에 'color': 'brown'을 추가하세요."
   ]
  },
  {
   "cell_type": "code",
   "execution_count": null,
   "id": "e57459eb",
   "metadata": {},
   "outputs": [],
   "source": []
  },
  {
   "cell_type": "markdown",
   "id": "88f8310f",
   "metadata": {},
   "source": [
    "4. animal 딕셔너리에서 'sound'의 값을 'woof'로 변경하세요."
   ]
  },
  {
   "cell_type": "code",
   "execution_count": null,
   "id": "bee6268d",
   "metadata": {},
   "outputs": [],
   "source": []
  },
  {
   "cell_type": "markdown",
   "id": "2e7336ee",
   "metadata": {},
   "source": [
    "5. animal 딕셔너리에서 'legs' 항목을 삭제하세요."
   ]
  },
  {
   "cell_type": "code",
   "execution_count": null,
   "id": "840e0f1d",
   "metadata": {},
   "outputs": [],
   "source": []
  },
  {
   "cell_type": "markdown",
   "id": "b273856f",
   "metadata": {},
   "source": [
    "6.  animal 딕셔너리에 'color' 키가 있는지 확인하고 결과를 출력하세요."
   ]
  },
  {
   "cell_type": "code",
   "execution_count": null,
   "id": "024b42ed",
   "metadata": {},
   "outputs": [],
   "source": []
  },
  {
   "cell_type": "markdown",
   "id": "130892aa",
   "metadata": {},
   "source": [
    "7. animal 딕셔너리의 모든 키를 가져와 출력하세요."
   ]
  },
  {
   "cell_type": "code",
   "execution_count": null,
   "id": "b186270f",
   "metadata": {},
   "outputs": [],
   "source": []
  },
  {
   "cell_type": "markdown",
   "id": "cde0ce31",
   "metadata": {},
   "source": [
    "8. animal 딕셔너리의 모든 값을 가져와 출력하세요."
   ]
  },
  {
   "cell_type": "code",
   "execution_count": null,
   "id": "559f2858",
   "metadata": {},
   "outputs": [],
   "source": []
  },
  {
   "cell_type": "markdown",
   "id": "21b88612",
   "metadata": {},
   "source": [
    "9. animal 딕셔너리의 모든 키와 값을 가져와 출력하세요."
   ]
  },
  {
   "cell_type": "code",
   "execution_count": null,
   "id": "1785ca9d",
   "metadata": {},
   "outputs": [],
   "source": []
  },
  {
   "cell_type": "markdown",
   "id": "6239ebd7",
   "metadata": {},
   "source": [
    "## 집합 자료형\n",
    "파이썬의 집합(set) 자료형은 순서가 없고, 중복된 요소를 가지지 않는 자료구조입니다.   \n",
    ": 중괄호({})를 사용하여 집합을 생성하거나, set() 함수를 사용할 수 있습니다. 집합에 대한 여러 연산(합집합, 교집합, 차집합 등)을 수행할 수 있습니다."
   ]
  },
  {
   "cell_type": "markdown",
   "id": "c5fb5662",
   "metadata": {},
   "source": [
    "* 집합 생성"
   ]
  },
  {
   "cell_type": "code",
   "execution_count": null,
   "id": "a1d34070",
   "metadata": {},
   "outputs": [],
   "source": [
    "# 집합 생성\n",
    "s1 = {1, 2, 3}\n",
    "s2 = set([1, 2, 3])\n",
    "\n",
    "print(s1)  # 출력: {1, 2, 3}\n",
    "print(s2)  # 출력: {1, 2, 3}"
   ]
  },
  {
   "cell_type": "markdown",
   "id": "34354363",
   "metadata": {},
   "source": [
    "* 교집합"
   ]
  },
  {
   "cell_type": "code",
   "execution_count": null,
   "id": "cd0fa8f6",
   "metadata": {},
   "outputs": [],
   "source": [
    "s1 = {1, 2, 3}\n",
    "s2 = {2, 3, 4}\n",
    "\n",
    "print(s1 & s2)"
   ]
  },
  {
   "cell_type": "markdown",
   "id": "3e94b0bd",
   "metadata": {},
   "source": [
    "* 합집합"
   ]
  },
  {
   "cell_type": "code",
   "execution_count": null,
   "id": "0e1e4fa0",
   "metadata": {},
   "outputs": [],
   "source": [
    "print(s1 | s2)"
   ]
  },
  {
   "cell_type": "markdown",
   "id": "dda23898",
   "metadata": {},
   "source": [
    "* 차집합"
   ]
  },
  {
   "cell_type": "code",
   "execution_count": null,
   "id": "1c511341",
   "metadata": {},
   "outputs": [],
   "source": [
    "print(s1 - s2)"
   ]
  },
  {
   "cell_type": "markdown",
   "id": "e07d40c7",
   "metadata": {},
   "source": [
    "* 집합에 요소 추가"
   ]
  },
  {
   "cell_type": "code",
   "execution_count": null,
   "id": "b787fea4",
   "metadata": {},
   "outputs": [],
   "source": [
    "s1.add(4)\n",
    "print(s1)  # 출력: {1, 2, 3, 4}"
   ]
  },
  {
   "cell_type": "code",
   "execution_count": null,
   "id": "20d2adab",
   "metadata": {},
   "outputs": [],
   "source": [
    "s1.update([4, 5, 6, 7])\n",
    "print(s1)"
   ]
  },
  {
   "cell_type": "markdown",
   "id": "3ef99d17",
   "metadata": {},
   "source": [
    "* 집합에서 요소 제거"
   ]
  },
  {
   "cell_type": "code",
   "execution_count": null,
   "id": "5f0d87af",
   "metadata": {},
   "outputs": [],
   "source": [
    "s1.remove(1)\n",
    "print(s1)  # 출력: {2, 3, 4}"
   ]
  },
  {
   "cell_type": "markdown",
   "id": "a9264548",
   "metadata": {},
   "source": [
    "* 집합 길이 확인"
   ]
  },
  {
   "cell_type": "code",
   "execution_count": null,
   "id": "be4d683a",
   "metadata": {},
   "outputs": [],
   "source": [
    "print(len(s1))"
   ]
  },
  {
   "cell_type": "markdown",
   "id": "39f31b7d",
   "metadata": {},
   "source": [
    "### 집합 자료형 연습문제"
   ]
  },
  {
   "cell_type": "markdown",
   "id": "9d3c1de7",
   "metadata": {},
   "source": [
    "1. 빈 집합 자료형을 생성하고, 1, 2, 3을 추가하세요."
   ]
  },
  {
   "cell_type": "code",
   "execution_count": null,
   "id": "00d18000",
   "metadata": {},
   "outputs": [],
   "source": []
  },
  {
   "cell_type": "markdown",
   "id": "d8e616af",
   "metadata": {},
   "source": [
    "2. {1, 2, 3} 집합에서 2를 제거하세요."
   ]
  },
  {
   "cell_type": "code",
   "execution_count": null,
   "id": "a03091df",
   "metadata": {},
   "outputs": [],
   "source": []
  },
  {
   "cell_type": "markdown",
   "id": "8524b376",
   "metadata": {},
   "source": [
    "3. 리스트 [1, 2, 3, 3, 4, 4, 5]를 집합 자료형으로 변환하세요."
   ]
  },
  {
   "cell_type": "code",
   "execution_count": null,
   "id": "33064c60",
   "metadata": {},
   "outputs": [],
   "source": []
  },
  {
   "cell_type": "markdown",
   "id": "b3c37e2f",
   "metadata": {},
   "source": [
    "4. 집합 {1, 2, 3, 4, 5}의 길이를 구하세요."
   ]
  },
  {
   "cell_type": "code",
   "execution_count": null,
   "id": "2f10c513",
   "metadata": {},
   "outputs": [],
   "source": []
  },
  {
   "cell_type": "markdown",
   "id": "50e6dcd5",
   "metadata": {},
   "source": [
    "5. 두 집합 {1, 2, 3}과 {3, 4, 5}의 합집합을 구하세요."
   ]
  },
  {
   "cell_type": "code",
   "execution_count": null,
   "id": "0b65a3fa",
   "metadata": {},
   "outputs": [],
   "source": []
  },
  {
   "cell_type": "markdown",
   "id": "e508595c",
   "metadata": {},
   "source": [
    "6. 두 집합 {1, 2, 3, 4}와 {3, 4, 5, 6}의 교집합을 구하세요."
   ]
  },
  {
   "cell_type": "code",
   "execution_count": null,
   "id": "6982432f",
   "metadata": {},
   "outputs": [],
   "source": []
  },
  {
   "cell_type": "markdown",
   "id": "c2f78e8e",
   "metadata": {},
   "source": [
    "7. 두 집합 {1, 2, 3, 4}와 {3, 4, 5, 6}의 차집합을 구하세요."
   ]
  },
  {
   "cell_type": "code",
   "execution_count": null,
   "id": "22b1bbae",
   "metadata": {},
   "outputs": [],
   "source": []
  },
  {
   "cell_type": "markdown",
   "id": "cfb562d1",
   "metadata": {},
   "source": [
    "## 불 자료형\n",
    "불(Boolean) 자료형은 참(True)과 거짓(False)의 두 가지 값만 가질 수 있는 데이터 타입입니다. 불 자료형은 조건문, 반복문, 논리 연산자 등에서 매우 중요한 역할을 합니다. 불 자료형은 비교 연산자(==, !=, <, >, <=, >=)의 결과로도 얻을 수 있으며, 논리 연산자(and, or, not)를 사용하여 다른 불 값과 조합할 수도 있습니다."
   ]
  },
  {
   "cell_type": "code",
   "execution_count": null,
   "id": "e82a5a9b",
   "metadata": {},
   "outputs": [],
   "source": []
  },
  {
   "cell_type": "markdown",
   "id": "e93a1bd7",
   "metadata": {},
   "source": [
    "## 조건문 IF문\n",
    "파이썬의 조건문(if)은 주어진 조건이 참(True)인 경우에만 코드 블록을 실행합니다. if 문 다음에는 조건식을 작성하고, 조건식 다음에는 콜론(:)을 입력하여 코드 블록을 시작합니다. 들여쓰기(indentation)는 파이썬에서 중요하며, 동일한 코드 블록 내에서 동일한 들여쓰기를 사용해야 합니다.  \n",
    "\n",
    ": if 문에는 선택적으로 elif(else if)와 else 문을 추가할 수 있습니다. 여러 개의 조건을 검사할 때 elif를 사용하며, 위의 조건들이 모두 거짓일 때 실행할 코드를 else 문에 작성합니다."
   ]
  },
  {
   "cell_type": "code",
   "execution_count": null,
   "id": "9706e338",
   "metadata": {},
   "outputs": [],
   "source": [
    "age = 25\n",
    "\n",
    "if age < 18:\n",
    "    print(\"미성년자입니다.\")\n",
    "elif age < 20:\n",
    "    print(\"성인이지만 술을 마실 수 없습니다.\")\n",
    "else:\n",
    "    print(\"성인입니다.\")\n",
    "\n",
    "# 출력: 성인입니다."
   ]
  },
  {
   "cell_type": "markdown",
   "id": "e12dab8f",
   "metadata": {},
   "source": [
    "### 조건문 IF문 연습문제\n",
    "1. 주어진 숫자 x가 양수인 경우 \"양수입니다.\"를 출력하세요."
   ]
  },
  {
   "cell_type": "code",
   "execution_count": null,
   "id": "56edc27e",
   "metadata": {},
   "outputs": [],
   "source": []
  },
  {
   "cell_type": "markdown",
   "id": "7909d957",
   "metadata": {},
   "source": [
    "2. 주어진 숫자 x가 짝수인 경우 \"짝수입니다.\"를, 홀수인 경우 \"홀수입니다.\"를 출력하세요."
   ]
  },
  {
   "cell_type": "code",
   "execution_count": null,
   "id": "76be83ad",
   "metadata": {},
   "outputs": [],
   "source": []
  },
  {
   "cell_type": "markdown",
   "id": "ba69ad3a",
   "metadata": {},
   "source": [
    "3. 주어진 숫자 x가 0부터 10 사이에 있는지 확인하고 결과를 출력하세요."
   ]
  },
  {
   "cell_type": "code",
   "execution_count": null,
   "id": "05c692c7",
   "metadata": {},
   "outputs": [],
   "source": []
  },
  {
   "cell_type": "markdown",
   "id": "4a5c463c",
   "metadata": {},
   "source": [
    "4. 두 개의 숫자 a와 b를 비교하여 큰 숫자, 작은 숫자, 또는 두 숫자가 같음을 출력하세요."
   ]
  },
  {
   "cell_type": "code",
   "execution_count": null,
   "id": "6e4d8594",
   "metadata": {},
   "outputs": [],
   "source": []
  },
  {
   "cell_type": "markdown",
   "id": "0ddb9673",
   "metadata": {},
   "source": [
    "5. 주어진 성적 score에 따라 학점(A, B, C, D, F)을 출력하세요. 성적이 90점 이상이면 A, 80점 이상이면 B, 70점 이상이면 C, 60점 이상이면 D, 그 외의 경우에는 F를 출력합니다."
   ]
  },
  {
   "cell_type": "code",
   "execution_count": null,
   "id": "cf4b5e20",
   "metadata": {},
   "outputs": [],
   "source": []
  },
  {
   "cell_type": "markdown",
   "id": "0c90826c",
   "metadata": {},
   "source": [
    "6. 주어진 키 height와 몸무게 weight로 BMI 지수를 계산하고, 체중 상태(저체중, 정상, 과체중, 비만)를 출력하세요. BMI 지수는 다음 공식을 사용하여 계산할 수 있습니다.\n",
    "\n",
    ": BMI = 몸무게(kg) / (키(m))^2\n",
    "\n",
    "* 저체중: BMI < 18.5\n",
    "* 정상: 18.5 <= BMI < 25\n",
    "* 과체중: 25 <= BMI < 30\n",
    "* 비만: BMI >= 30"
   ]
  },
  {
   "cell_type": "markdown",
   "id": "5d245286",
   "metadata": {},
   "source": [
    "7. 세 개의 숫자 a, b, c 중 가장 큰 값을 출력하세요."
   ]
  },
  {
   "cell_type": "code",
   "execution_count": null,
   "id": "5f3324e5",
   "metadata": {},
   "outputs": [],
   "source": []
  },
  {
   "cell_type": "markdown",
   "id": "7f31e6f6",
   "metadata": {},
   "source": [
    "## 반복문 while문\n",
    "파이썬의 반복문 중 하나인 while문은 주어진 조건이 참(True)인 동안 코드 블록을 반복해서 실행합니다. 조건식이 거짓(False)이 될 때까지 계속 실행되며, 조건식이 처음부터 거짓인 경우 코드 블록은 한 번도 실행되지 않습니다. while문 다음에는 조건식을 작성하고, 조건식 다음에는 콜론(:)을 입력하여 코드 블록을 시작합니다. 들여쓰기(indentation)는 파이썬에서 중요하며, 동일한 코드 블록 내에서 동일한 들여쓰기를 사용해야 합니다."
   ]
  },
  {
   "cell_type": "code",
   "execution_count": null,
   "id": "ca7acace",
   "metadata": {},
   "outputs": [],
   "source": []
  },
  {
   "cell_type": "markdown",
   "id": "fe3d858f",
   "metadata": {},
   "source": [
    "### break\n",
    "무한 루프를 조심하세요. 조건식이 항상 참인 경우, while문은 무한히 반복되므로 코드가 종료되지 않습니다. 이러한 상황을 방지하려면 적절한 종료 조건을 설정하거나 break 문을 사용하여 반복을 빠져나오도록 합니다."
   ]
  },
  {
   "cell_type": "code",
   "execution_count": null,
   "id": "0a84655a",
   "metadata": {},
   "outputs": [],
   "source": []
  },
  {
   "cell_type": "markdown",
   "id": "c6f531e2",
   "metadata": {},
   "source": [
    "### continue\n",
    "continue는 파이썬의 반복문에서 사용되는 제어문입니다. continue 문이 실행되면, 현재 반복의 남은 코드를 건너뛰고 다음 반복(iteration)으로 진행합니다. continue 문은 주로 조건을 만족하는 경우에 현재 반복을 건너뛰고자 할 때 사용됩니다."
   ]
  },
  {
   "cell_type": "code",
   "execution_count": null,
   "id": "e5c6b8c8",
   "metadata": {},
   "outputs": [],
   "source": []
  },
  {
   "cell_type": "markdown",
   "id": "a04807b8",
   "metadata": {},
   "source": [
    "### 반복문 while문 연습문제\n",
    "1. while문을 사용하여 1부터 10까지의 숫자를 출력하세요."
   ]
  },
  {
   "cell_type": "code",
   "execution_count": null,
   "id": "ca8832c1",
   "metadata": {},
   "outputs": [],
   "source": []
  },
  {
   "cell_type": "markdown",
   "id": "333d7393",
   "metadata": {},
   "source": [
    "2. while문을 사용하여 1부터 10까지의 숫자의 합을 구하고 출력하세요."
   ]
  },
  {
   "cell_type": "code",
   "execution_count": null,
   "id": "af2dbc81",
   "metadata": {},
   "outputs": [],
   "source": []
  },
  {
   "cell_type": "markdown",
   "id": "1c290440",
   "metadata": {},
   "source": [
    "3. while문을 사용하여 구구단 2단을 출력하세요."
   ]
  },
  {
   "cell_type": "code",
   "execution_count": null,
   "id": "af3b0d8f",
   "metadata": {},
   "outputs": [],
   "source": []
  },
  {
   "cell_type": "markdown",
   "id": "e3068641",
   "metadata": {},
   "source": [
    "4. while문을 사용하여 1부터 100까지의 짝수를 출력하세요."
   ]
  },
  {
   "cell_type": "code",
   "execution_count": null,
   "id": "ad2fa325",
   "metadata": {},
   "outputs": [],
   "source": []
  },
  {
   "cell_type": "markdown",
   "id": "eb2a81b7",
   "metadata": {},
   "source": [
    "## 반복문 for문\n",
    "파이썬의 for문은 시퀀스(sequence)를 순회하며 각 요소에 대해 코드 블록을 실행합니다. 시퀀스는 리스트, 튜플, 문자열, 사전 등 여러 가지 자료구조가 가능합니다. for문 다음에는 순회할 변수 이름을 지정하고, in 키워드를 사용해 순회할 시퀀스를 지정합니다. 이후 콜론(:)을 입력하여 코드 블록을 시작하며, 동일한 코드 블록 내에서 동일한 들여쓰기를 사용해야 합니다."
   ]
  },
  {
   "cell_type": "code",
   "execution_count": null,
   "id": "a5f0c6d4",
   "metadata": {},
   "outputs": [],
   "source": [
    "fruits = [\"apple\", \"banana\", \"orange\"]\n",
    "\n",
    "for fruit in fruits:\n",
    "    print(fruit)\n",
    "\n",
    "# 출력:\n",
    "# apple\n",
    "# banana\n",
    "# orange"
   ]
  },
  {
   "cell_type": "code",
   "execution_count": null,
   "id": "12b4025c",
   "metadata": {},
   "outputs": [],
   "source": [
    "for i in range(5):\n",
    "    print(i)\n",
    "\n",
    "# 출력:\n",
    "# 0\n",
    "# 1\n",
    "# 2\n",
    "# 3\n",
    "# 4"
   ]
  },
  {
   "cell_type": "code",
   "execution_count": null,
   "id": "c1737a04",
   "metadata": {},
   "outputs": [],
   "source": [
    "for i in range(3, 6):\n",
    "    print(i)"
   ]
  },
  {
   "cell_type": "code",
   "execution_count": null,
   "id": "65961dfb",
   "metadata": {},
   "outputs": [],
   "source": [
    "for i in range(1, 6, 2):\n",
    "    print(i)\n",
    "\n",
    "# 출력:\n",
    "# 1\n",
    "# 3\n",
    "# 5"
   ]
  },
  {
   "cell_type": "code",
   "execution_count": null,
   "id": "d691e95f",
   "metadata": {},
   "outputs": [],
   "source": [
    "student_grades = {\"Alice\": 90, \"Bob\": 85, \"Charlie\": 95}\n",
    "\n",
    "for name, grade in student_grades.items():\n",
    "    print(name, grade)\n",
    "\n",
    "# 출력:\n",
    "# Alice 90\n",
    "# Bob 85\n",
    "# Charlie 95"
   ]
  },
  {
   "cell_type": "markdown",
   "id": "61860e98",
   "metadata": {},
   "source": [
    "### 반복문 for문 연습문제\n",
    "1. for문을 사용하여 1부터 10까지의 숫자를 출력하세요."
   ]
  },
  {
   "cell_type": "code",
   "execution_count": null,
   "id": "945fcd8a",
   "metadata": {},
   "outputs": [],
   "source": []
  },
  {
   "cell_type": "markdown",
   "id": "2f92638c",
   "metadata": {},
   "source": [
    "2. for문을 사용하여 1부터 10까지의 숫자의 합을 구하고 출력하세요."
   ]
  },
  {
   "cell_type": "code",
   "execution_count": null,
   "id": "0182cc4f",
   "metadata": {},
   "outputs": [],
   "source": []
  },
  {
   "cell_type": "markdown",
   "id": "62d0c2de",
   "metadata": {},
   "source": [
    "3. for문을 사용하여 구구단 2단을 출력하세요."
   ]
  },
  {
   "cell_type": "code",
   "execution_count": null,
   "id": "010dc437",
   "metadata": {},
   "outputs": [],
   "source": []
  },
  {
   "cell_type": "markdown",
   "id": "108efaca",
   "metadata": {},
   "source": [
    "4. for문을 사용하여 1부터 100까지의 짝수를 출력하세요."
   ]
  },
  {
   "cell_type": "code",
   "execution_count": null,
   "id": "c8526354",
   "metadata": {},
   "outputs": [],
   "source": []
  },
  {
   "cell_type": "markdown",
   "id": "e40ae45f",
   "metadata": {},
   "source": [
    "5. 주어진 숫자 n에 대해 1부터 n까지의 팩토리얼을 계산하고 출력하세요."
   ]
  },
  {
   "cell_type": "code",
   "execution_count": null,
   "id": "99ab4daf",
   "metadata": {},
   "outputs": [],
   "source": []
  },
  {
   "cell_type": "markdown",
   "id": "761fbdba",
   "metadata": {},
   "source": [
    "## 내장 함수\n",
    "* abs(x): 숫자 x의 절대값을 반환합니다."
   ]
  },
  {
   "cell_type": "code",
   "execution_count": null,
   "id": "f459b20c",
   "metadata": {},
   "outputs": [],
   "source": []
  },
  {
   "cell_type": "markdown",
   "id": "37e24182",
   "metadata": {},
   "source": [
    "* sum: iterable 객체(리스트, 튜플 등)의 합을 반환합니다."
   ]
  },
  {
   "cell_type": "code",
   "execution_count": null,
   "id": "55b9ccb4",
   "metadata": {},
   "outputs": [],
   "source": []
  },
  {
   "cell_type": "markdown",
   "id": "8a209df2",
   "metadata": {},
   "source": [
    "* min / max: iterable 객체에서 최소값 / 최대값을 반환"
   ]
  },
  {
   "cell_type": "code",
   "execution_count": null,
   "id": "1be23023",
   "metadata": {},
   "outputs": [],
   "source": []
  },
  {
   "cell_type": "markdown",
   "id": "40a273f3",
   "metadata": {},
   "source": [
    "* len(s): 시퀀스(s)의 길이(요소 수)를 반환합니다."
   ]
  },
  {
   "cell_type": "code",
   "execution_count": null,
   "id": "642b7289",
   "metadata": {},
   "outputs": [],
   "source": []
  },
  {
   "cell_type": "markdown",
   "id": "cbd47daa",
   "metadata": {},
   "source": [
    "* round: 숫자를 반올림한 후 반환합니다. ndigits 인자를 통해 반올림할 소수점 자릿수를 지정할 수 있습니다."
   ]
  },
  {
   "cell_type": "code",
   "execution_count": null,
   "id": "7e730dc1",
   "metadata": {},
   "outputs": [],
   "source": []
  },
  {
   "cell_type": "markdown",
   "id": "4ed30688",
   "metadata": {},
   "source": [
    "* range(stop) / range(start, stop[, step]): 시작값부터 종료값 전까지 일정한 간격의 숫자 시퀀스를 생성하는 range 객체를 반환합니다. 간격은 step 인자를 통해 지정할 수 있습니다."
   ]
  },
  {
   "cell_type": "code",
   "execution_count": null,
   "id": "82c8bb51",
   "metadata": {},
   "outputs": [],
   "source": []
  },
  {
   "cell_type": "markdown",
   "id": "405e0da8",
   "metadata": {},
   "source": [
    "* int(x=0, base=10): 주어진 숫자 또는 문자열 x를 정수로 변환합니다."
   ]
  },
  {
   "cell_type": "code",
   "execution_count": null,
   "id": "6e84be6d",
   "metadata": {},
   "outputs": [],
   "source": []
  },
  {
   "cell_type": "markdown",
   "id": "b645efac",
   "metadata": {},
   "source": [
    "* float(x): 주어진 숫자 또는 문자열 x를 부동소수점 수로 변환합니다."
   ]
  },
  {
   "cell_type": "code",
   "execution_count": null,
   "id": "c01329a6",
   "metadata": {},
   "outputs": [],
   "source": []
  },
  {
   "cell_type": "markdown",
   "id": "a487f7d1",
   "metadata": {},
   "source": [
    "* str(obj=''): 주어진 객체를 문자열로 변환합니다."
   ]
  },
  {
   "cell_type": "code",
   "execution_count": null,
   "id": "58ac0568",
   "metadata": {},
   "outputs": [],
   "source": []
  },
  {
   "cell_type": "markdown",
   "id": "d868c0aa",
   "metadata": {},
   "source": [
    "## 라이브러리\n",
    "라이브러리(library)란 프로그래밍에서 특정 기능들을 모아 놓은 코드 모음입니다. 라이브러리는 개발자가 작성한 코드와 함께 작동하며, 일반적인 작업을 수행하거나, 복잡한 작업을 쉽게 처리할 수 있도록 도와줍니다."
   ]
  },
  {
   "cell_type": "code",
   "execution_count": null,
   "id": "542fef14",
   "metadata": {},
   "outputs": [],
   "source": []
  }
 ],
 "metadata": {
  "kernelspec": {
   "display_name": "Python 3 (ipykernel)",
   "language": "python",
   "name": "python3"
  },
  "language_info": {
   "codemirror_mode": {
    "name": "ipython",
    "version": 3
   },
   "file_extension": ".py",
   "mimetype": "text/x-python",
   "name": "python",
   "nbconvert_exporter": "python",
   "pygments_lexer": "ipython3",
   "version": "3.10.9"
  }
 },
 "nbformat": 4,
 "nbformat_minor": 5
}
